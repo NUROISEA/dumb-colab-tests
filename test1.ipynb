{
  "cells": [
    {
      "cell_type": "markdown",
      "metadata": {
        "colab_type": "text",
        "id": "view-in-github"
      },
      "source": [
        "<a href=\"https://colab.research.google.com/github/NUROISEA/dumb-colab-tests/blob/main/test1.ipynb\" target=\"_parent\"><img src=\"https://colab.research.google.com/assets/colab-badge.svg\" alt=\"Open In Colab\"/></a>"
      ]
    },
    {
      "cell_type": "code",
      "execution_count": null,
      "metadata": {
        "id": "RN9tD2zZVrRO"
      },
      "outputs": [],
      "source": [
        "try:\n",
        "    external\n",
        "except NameError:\n",
        "    !wget https://github.com/NUROISEA/dumb-colab-tests/raw/main/external.py -O external.py\n",
        "    import external\n",
        "\n",
        "\n",
        "print(external.hello_world)\n",
        "\n",
        "external.fetch_repo_license()\n",
        "external.fetch_repo_readme()\n",
        "external.download_large_file()"
      ]
    }
  ],
  "metadata": {
    "colab": {
      "authorship_tag": "ABX9TyPWHnINDpYx4Ny/FIKbiRCv",
      "include_colab_link": true,
      "provenance": []
    },
    "gpuClass": "standard",
    "kernelspec": {
      "display_name": "Python 3",
      "name": "python3"
    },
    "language_info": {
      "name": "python"
    }
  },
  "nbformat": 4,
  "nbformat_minor": 0
}
